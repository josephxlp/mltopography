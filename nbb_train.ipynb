{
 "cells": [
  {
   "cell_type": "code",
   "execution_count": 5,
   "metadata": {},
   "outputs": [
    {
     "name": "stdout",
     "output_type": "stream",
     "text": [
      "['N09E106', 'N10E104', 'N10E105', 'N10E106', 'N13E103']\n",
      "(123,\n",
      " 'all',\n",
      " 'gpu',\n",
      " 'ldtm',\n",
      " 'zdif',\n",
      " 'tdem_dem_filled',\n",
      " ['egm08', 'egm96', 'tdem_hem', 'tdem_dem_filled'],\n",
      " {'depth': 16,\n",
      "  'devices': '0:1',\n",
      "  'eval_metric': 'RMSE',\n",
      "  'iterations': 2000,\n",
      "  'learning_rate': 0.1,\n",
      "  'loss_function': 'RMSE',\n",
      "  'od_type': 'Iter',\n",
      "  'od_wait': 100,\n",
      "  'random_seed': 123,\n",
      "  'task_type': 'GPU'},\n",
      " 2100,\n",
      " ['ldtm', 'zdif'],\n",
      " ['egm08', 'egm96', 'tdem_hem', 'tdem_dem_filled', 'ldtm'])\n"
     ]
    }
   ],
   "source": [
    "from uvars import roi_tiles, model_dir, pq_path\n",
    "from params import define_parameters\n",
    "from glob import glob \n",
    "from os import makedirs\n",
    "from utilsml import train_catboost\n",
    "from pprint import pprint as P\n",
    "\n",
    "def hpo_catboost_on_optuna():\n",
    "    pass #geoww\n",
    "roi_tiles # missing one tile in mkd go back to process it \n",
    "# define_parameters check always that this comes from params in utilsml*****\n",
    "P(roi_tiles)\n",
    "P(define_parameters())"
   ]
  },
  {
   "cell_type": "code",
   "execution_count": 2,
   "metadata": {},
   "outputs": [
    {
     "name": "stdout",
     "output_type": "stream",
     "text": [
      "16\n",
      "5\n",
      "['/media/ljp238/12TBWolf/ARCHIEVE/ZOUT/datasets_TILES12_patches256/N09E106/N09E106_F_ldem_data.parquet', '/media/ljp238/12TBWolf/ARCHIEVE/ZOUT/datasets_TILES12_patches256/N10E104/N10E104_F_ldem_data.parquet', '/media/ljp238/12TBWolf/ARCHIEVE/ZOUT/datasets_TILES12_patches256/N10E105/N10E105_F_ldem_data.parquet', '/media/ljp238/12TBWolf/ARCHIEVE/ZOUT/datasets_TILES12_patches256/N10E106/N10E106_F_ldem_data.parquet', '/media/ljp238/12TBWolf/ARCHIEVE/ZOUT/datasets_TILES12_patches256/N13E103/N13E103_F_ldem_data.parquet']\n",
      "Loading parameters...\n",
      "Loading datasets...\n",
      "Splitting datasets...\n",
      "(201623087, 6) (60486927, 6)\n",
      "TRAINING...\n",
      "TRAINING ldtm\n",
      "0:\tlearn: 15.4841009\ttest: 15.4602805\tbest: 15.4602805 (0)\ttotal: 1.28s\tremaining: 42m 44s\n"
     ]
    }
   ],
   "source": [
    "if __name__ == '__main__':\n",
    "    makedirs(model_dir, exist_ok=True)\n",
    "    pq_files = glob(pq_path); print(len(pq_files))\n",
    "    #pq_files = #[i for i in pq_files if 'S0' not in i]\n",
    "    pq_files = [i for i in pq_files for j in roi_tiles if j in i]; print(len(pq_files))\n",
    "    print(pq_files)# pass the parameters here so they can be saved \n",
    "    train_catboost(pq_files, model_dir)#, sample_frac)\n"
   ]
  },
  {
   "cell_type": "markdown",
   "metadata": {},
   "source": [
    "- run 3 with different parameters, and use parameters to save the files\n",
    "- do a study across 3 models \n",
    "- make a ensemble for predictions "
   ]
  }
 ],
 "metadata": {
  "kernelspec": {
   "display_name": "pgeoml",
   "language": "python",
   "name": "python3"
  },
  "language_info": {
   "codemirror_mode": {
    "name": "ipython",
    "version": 3
   },
   "file_extension": ".py",
   "mimetype": "text/x-python",
   "name": "python",
   "nbconvert_exporter": "python",
   "pygments_lexer": "ipython3",
   "version": "3.9.19"
  }
 },
 "nbformat": 4,
 "nbformat_minor": 2
}
