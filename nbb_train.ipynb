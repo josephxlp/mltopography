{
 "cells": [
  {
   "cell_type": "code",
   "execution_count": 2,
   "metadata": {},
   "outputs": [
    {
     "data": {
      "text/plain": [
       "['N09E106', 'N10E104', 'N10E105', 'N10E106', 'N13E103']"
      ]
     },
     "execution_count": 2,
     "metadata": {},
     "output_type": "execute_result"
    }
   ],
   "source": [
    "from uvars import roi_tiles, model_dir, pq_path, define_parameters\n",
    "from glob import glob \n",
    "from os import makedirs\n",
    "from utilsml import train_catboost\n",
    "\n",
    "def hpo_catboost_on_optuna():\n",
    "    pass #geoww\n",
    "roi_tiles # missing one tile in mkd go back to process it "
   ]
  },
  {
   "cell_type": "code",
   "execution_count": 3,
   "metadata": {},
   "outputs": [
    {
     "name": "stdout",
     "output_type": "stream",
     "text": [
      "16\n",
      "5\n",
      "['/media/ljp238/12TBWolf/ARCHIEVE/ZOUT/datasets_TILES12_patches256/N09E106/N09E106_F_ldem_data.parquet', '/media/ljp238/12TBWolf/ARCHIEVE/ZOUT/datasets_TILES12_patches256/N10E104/N10E104_F_ldem_data.parquet', '/media/ljp238/12TBWolf/ARCHIEVE/ZOUT/datasets_TILES12_patches256/N10E105/N10E105_F_ldem_data.parquet', '/media/ljp238/12TBWolf/ARCHIEVE/ZOUT/datasets_TILES12_patches256/N10E106/N10E106_F_ldem_data.parquet', '/media/ljp238/12TBWolf/ARCHIEVE/ZOUT/datasets_TILES12_patches256/N13E103/N13E103_F_ldem_data.parquet']\n",
      "Loading parameters...\n",
      "Loading datasets...\n",
      "Splitting datasets...\n",
      "TRAINING...\n",
      "TRAINING ldtm\n",
      "Learning rate set to 0.5\n",
      "0:\tlearn: 13.9297966\ttest: 14.1387163\tbest: 14.1387163 (0)\ttotal: 258ms\tremaining: 2.32s\n",
      "9:\tlearn: 10.9470086\ttest: 11.0513470\tbest: 11.0513470 (9)\ttotal: 2.35s\tremaining: 0us\n",
      "bestTest = 11.05134698\n",
      "bestIteration = 9\n",
      "TRAINING zdif\n",
      "Learning rate set to 0.5\n",
      "0:\tlearn: 18.8824138\ttest: 19.1643094\tbest: 19.1643094 (0)\ttotal: 274ms\tremaining: 2.46s\n",
      "9:\tlearn: 13.0381977\ttest: 13.2024692\tbest: 13.2024692 (9)\ttotal: 2.43s\tremaining: 0us\n",
      "bestTest = 13.20246916\n",
      "bestIteration = 9\n",
      "==============================\n",
      "Run time = 1.06 min(s)\n"
     ]
    }
   ],
   "source": [
    "\n",
    "\n",
    "if __name__ == '__main__':\n",
    "    makedirs(model_dir, exist_ok=True)\n",
    "    pq_files = glob(pq_path); print(len(pq_files))\n",
    "    #pq_files = #[i for i in pq_files if 'S0' not in i]\n",
    "    pq_files = [i for i in pq_files for j in roi_tiles if j in i]; print(len(pq_files))\n",
    "    print(pq_files)\n",
    "    train_catboost(pq_files, model_dir, sample_frac=0.1)\n"
   ]
  },
  {
   "cell_type": "markdown",
   "metadata": {},
   "source": [
    "- run 3 with different parameters, and use parameters to save the files\n",
    "- do a study across 3 models \n",
    "- make a ensemble for predictions "
   ]
  }
 ],
 "metadata": {
  "kernelspec": {
   "display_name": "pgeoml",
   "language": "python",
   "name": "python3"
  },
  "language_info": {
   "codemirror_mode": {
    "name": "ipython",
    "version": 3
   },
   "file_extension": ".py",
   "mimetype": "text/x-python",
   "name": "python",
   "nbconvert_exporter": "python",
   "pygments_lexer": "ipython3",
   "version": "3.9.19"
  }
 },
 "nbformat": 4,
 "nbformat_minor": 2
}
