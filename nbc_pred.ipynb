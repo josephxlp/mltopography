{
 "cells": [
  {
   "cell_type": "code",
   "execution_count": 5,
   "metadata": {},
   "outputs": [],
   "source": [
    "from utilsml import (load_and_predict,load_patch_to_df,\n",
    "                     load_yaml,write_raster,rio_get_meta)\n",
    "from utilsdownxk import coarsen_raster_ds, dem_downscaler, subtract_rasters\n",
    "# procrss_zdiff raste_\n",
    "import pandas as pd \n",
    "import numpy as np \n",
    "import rasterio\n",
    "import time \n",
    "from params import define_parameters\n",
    "from uvars import model_dir, pq_path, model_pattern, WDIR\n",
    "from glob import glob\n",
    "from os import makedirs, listdir,remove\n",
    "from os.path import basename"
   ]
  },
  {
   "cell_type": "code",
   "execution_count": 52,
   "metadata": {},
   "outputs": [],
   "source": []
  },
  {
   "cell_type": "code",
   "execution_count": 57,
   "metadata": {},
   "outputs": [
    {
     "name": "stdout",
     "output_type": "stream",
     "text": [
      "4\n",
      "2\n",
      "2\n"
     ]
    }
   ],
   "source": [
    "yaml_pattern = \"/media/ljp238/12TBWolf/ARCHIEVE/ZOUT/datasets_TILES12/*/*.yaml\"\n",
    "tilename = \"N13E103\"\n",
    "tilenames = [tilename]\n",
    "tilenamex = sorted(listdir(WDIR))\n",
    "\n",
    "tsp_tilenames = [\n",
    " 'N11E104',\n",
    " 'N11E105',\n",
    " 'N12E103',\n",
    " 'N12E104',\n",
    " 'N12E105',\n",
    " 'N13E103',\n",
    " 'N13E104',\n",
    " 'N13E105' ]\n",
    "\n",
    "rnd_seed,roi,mx,fcolydi,fcolyid, fcolref, fcolX,catboost_params, nboost,fcolY,FTCOLSC = define_parameters()\n",
    "keys_to_keep = FTCOLSC \n",
    "nboost = 1000 + 100\n",
    "tvar = \"all\"#roi\n",
    "seed = 42#42, 123\n",
    "mfiles = glob(model_pattern)\n",
    "modelpaths = [i for i in mfiles if f'_{nboost}_' in i];print(len(modelpaths))\n",
    "modelpaths = [i for i in mfiles if f'_{seed}_' in i];print(len(modelpaths))\n",
    "modelpaths = [i for i in modelpaths if str(tvar) in i];print(len(modelpaths))\n",
    "#modelpaths\n",
    "assert len(modelpaths) == 2, 'Wrong models'"
   ]
  },
  {
   "cell_type": "code",
   "execution_count": null,
   "metadata": {},
   "outputs": [],
   "source": [
    "if __name__ == '__main__':\n",
    "    ta = time.perf_counter()\n",
    "    tilenames = tilenames#\n",
    "    raster_out_list = []\n",
    "    for i in range(len(tilenames)):\n",
    "        print('%%'*20)\n",
    "        print(f'tile:{tilenames[i]}')\n",
    "        prediction_workflow(yaml_pattern,tilename,keys_to_keep,fcolydi,fcolyid, fcolref,fcolY,fcolX,modelpaths)\n",
    "\n",
    "    tb = time.perf_counter() - ta \n",
    "    print(f'[INFO]: run.time = {tb/60} min(s)')\n",
    " "
   ]
  },
  {
   "cell_type": "code",
   "execution_count": 32,
   "metadata": {},
   "outputs": [],
   "source": [
    "# big prediction for offset accross tiles \n",
    "# join all the data, and load to make prediction and write"
   ]
  }
 ],
 "metadata": {
  "kernelspec": {
   "display_name": "pgeoml",
   "language": "python",
   "name": "python3"
  },
  "language_info": {
   "codemirror_mode": {
    "name": "ipython",
    "version": 3
   },
   "file_extension": ".py",
   "mimetype": "text/x-python",
   "name": "python",
   "nbconvert_exporter": "python",
   "pygments_lexer": "ipython3",
   "version": "3.9.19"
  }
 },
 "nbformat": 4,
 "nbformat_minor": 2
}
